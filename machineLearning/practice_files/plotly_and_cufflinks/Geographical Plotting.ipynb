{
 "cells": [
  {
   "cell_type": "code",
   "execution_count": 3,
   "metadata": {},
   "outputs": [
    {
     "data": {
      "text/html": [
       "<script>requirejs.config({paths: { 'plotly': ['https://cdn.plot.ly/plotly-latest.min']},});if(!window.Plotly) {{require(['plotly'],function(plotly) {window.Plotly=plotly;});}}</script>"
      ],
      "text/vnd.plotly.v1+html": [
       "<script>requirejs.config({paths: { 'plotly': ['https://cdn.plot.ly/plotly-latest.min']},});if(!window.Plotly) {{require(['plotly'],function(plotly) {window.Plotly=plotly;});}}</script>"
      ]
     },
     "metadata": {},
     "output_type": "display_data"
    }
   ],
   "source": [
    "import numpy as np\n",
    "import pandas as pd\n",
    "import seaborn as sns\n",
    "import plotly.plotly as py\n",
    "import plotly.graph_objs as go\n",
    "from plotly.offline import download_plotlyjs, init_notebook_mode, plot, iplot\n",
    "\n",
    "init_notebook_mode(connected = True)"
   ]
  },
  {
   "cell_type": "code",
   "execution_count": 4,
   "metadata": {
    "collapsed": true
   },
   "outputs": [],
   "source": [
    "# Choropleth maps"
   ]
  },
  {
   "cell_type": "code",
   "execution_count": 5,
   "metadata": {
    "collapsed": true
   },
   "outputs": [],
   "source": [
    "# First build a data dictionary\n",
    "data = dict(type = 'choropleth', \n",
    "            locations = ['AZ', 'CA', 'NY', 'MT'],\n",
    "            locationmode = 'USA-states',\n",
    "            colorscale = 'Portland',\n",
    "            text = ['Dry and Hot', \"Tubular\", 'Brooklyn Pizza is da Best', 'Nehhhh'],\n",
    "            z = [1.0, 2.0, 3.0, 4.0],\n",
    "            colorbar = {'title' : 'Color bar title goes here'})"
   ]
  },
  {
   "cell_type": "code",
   "execution_count": 6,
   "metadata": {},
   "outputs": [
    {
     "data": {
      "text/plain": [
       "{'colorbar': {'title': 'Color bar title goes here'},\n",
       " 'colorscale': 'Portland',\n",
       " 'locationmode': 'USA-states',\n",
       " 'locations': ['AZ', 'CA', 'NY', 'MT'],\n",
       " 'text': ['Dry and Hot', 'Tubular', 'Brooklyn Pizza is da Best', 'Nehhhh'],\n",
       " 'type': 'choropleth',\n",
       " 'z': [1.0, 2.0, 3.0, 4.0]}"
      ]
     },
     "execution_count": 6,
     "metadata": {},
     "output_type": "execute_result"
    }
   ],
   "source": [
    "data"
   ]
  },
  {
   "cell_type": "code",
   "execution_count": 7,
   "metadata": {
    "collapsed": true
   },
   "outputs": [],
   "source": [
    "layout = dict(geo = {'scope': 'usa'})"
   ]
  },
  {
   "cell_type": "code",
   "execution_count": 10,
   "metadata": {
    "collapsed": true
   },
   "outputs": [],
   "source": [
    "choromap = go.Figure(data = [data], layout = layout)"
   ]
  },
  {
   "cell_type": "code",
   "execution_count": 11,
   "metadata": {},
   "outputs": [
    {
     "data": {
      "application/vnd.plotly.v1+json": {
       "data": [
        {
         "colorbar": {
          "title": "Color bar title goes here"
         },
         "colorscale": "Portland",
         "locationmode": "USA-states",
         "locations": [
          "AZ",
          "CA",
          "NY",
          "MT"
         ],
         "text": [
          "Dry and Hot",
          "Tubular",
          "Brooklyn Pizza is da Best",
          "Nehhhh"
         ],
         "type": "choropleth",
         "z": [
          1,
          2,
          3,
          4
         ]
        }
       ],
       "layout": {
        "geo": {
         "scope": "usa"
        }
       }
      },
      "text/html": [
       "<div id=\"cea628ba-3813-4c68-8027-3e27d799b3e0\" style=\"height: 525px; width: 100%;\" class=\"plotly-graph-div\"></div><script type=\"text/javascript\">require([\"plotly\"], function(Plotly) { window.PLOTLYENV=window.PLOTLYENV || {};window.PLOTLYENV.BASE_URL=\"https://plot.ly\";Plotly.newPlot(\"cea628ba-3813-4c68-8027-3e27d799b3e0\", [{\"type\": \"choropleth\", \"locations\": [\"AZ\", \"CA\", \"NY\", \"MT\"], \"locationmode\": \"USA-states\", \"colorscale\": \"Portland\", \"text\": [\"Dry and Hot\", \"Tubular\", \"Brooklyn Pizza is da Best\", \"Nehhhh\"], \"z\": [1.0, 2.0, 3.0, 4.0], \"colorbar\": {\"title\": \"Color bar title goes here\"}}], {\"geo\": {\"scope\": \"usa\"}}, {\"showLink\": true, \"linkText\": \"Export to plot.ly\"})});</script>"
      ],
      "text/vnd.plotly.v1+html": [
       "<div id=\"cea628ba-3813-4c68-8027-3e27d799b3e0\" style=\"height: 525px; width: 100%;\" class=\"plotly-graph-div\"></div><script type=\"text/javascript\">require([\"plotly\"], function(Plotly) { window.PLOTLYENV=window.PLOTLYENV || {};window.PLOTLYENV.BASE_URL=\"https://plot.ly\";Plotly.newPlot(\"cea628ba-3813-4c68-8027-3e27d799b3e0\", [{\"type\": \"choropleth\", \"locations\": [\"AZ\", \"CA\", \"NY\", \"MT\"], \"locationmode\": \"USA-states\", \"colorscale\": \"Portland\", \"text\": [\"Dry and Hot\", \"Tubular\", \"Brooklyn Pizza is da Best\", \"Nehhhh\"], \"z\": [1.0, 2.0, 3.0, 4.0], \"colorbar\": {\"title\": \"Color bar title goes here\"}}], {\"geo\": {\"scope\": \"usa\"}}, {\"showLink\": true, \"linkText\": \"Export to plot.ly\"})});</script>"
      ]
     },
     "metadata": {},
     "output_type": "display_data"
    }
   ],
   "source": [
    "iplot(choromap)"
   ]
  },
  {
   "cell_type": "code",
   "execution_count": null,
   "metadata": {
    "collapsed": true
   },
   "outputs": [],
   "source": [
    "df = pd.read_csv()"
   ]
  }
 ],
 "metadata": {
  "kernelspec": {
   "display_name": "Python 3",
   "language": "python",
   "name": "python3"
  },
  "language_info": {
   "codemirror_mode": {
    "name": "ipython",
    "version": 3
   },
   "file_extension": ".py",
   "mimetype": "text/x-python",
   "name": "python",
   "nbconvert_exporter": "python",
   "pygments_lexer": "ipython3",
   "version": "3.6.2"
  }
 },
 "nbformat": 4,
 "nbformat_minor": 2
}
